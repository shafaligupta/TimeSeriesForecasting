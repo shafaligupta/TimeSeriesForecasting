{
 "cells": [
  {
   "cell_type": "markdown",
   "metadata": {},
   "source": [
    "### reading data into the file "
   ]
  },
  {
   "cell_type": "code",
   "execution_count": 1,
   "metadata": {},
   "outputs": [],
   "source": [
    "import pandas as pd\n",
    "import numpy as np\n",
    "import statsmodels.formula.api as smf\n",
    "import statsmodels.api as sm\n",
    "from sklearn import linear_model, metrics\n",
    "from sklearn.model_selection import train_test_split\n",
    "from sklearn import preprocessing,svm \n",
    "from sklearn.preprocessing import StandardScaler\n",
    "from sklearn import model_selection,metrics \n",
    "from sklearn.linear_model import LinearRegression\n",
    "from sklearn.model_selection import train_test_split,KFold,cross_val_score,cross_val_predict"
   ]
  },
  {
   "cell_type": "code",
   "execution_count": 20,
   "metadata": {},
   "outputs": [],
   "source": [
    "raw_data='train.csv'\n",
    "df = pd.read_csv(raw_data)\n",
    "df1=df"
   ]
  },
  {
   "cell_type": "code",
   "execution_count": 3,
   "metadata": {},
   "outputs": [
    {
     "data": {
      "text/plain": [
       "Store                0\n",
       "Dept                 0\n",
       "Date                 0\n",
       "Weekly_Sales         0\n",
       "IsHoliday            0\n",
       "Temperature          0\n",
       "Fuel_Price           0\n",
       "MarkDown1       181931\n",
       "MarkDown2       208219\n",
       "MarkDown3       190930\n",
       "MarkDown4       192420\n",
       "MarkDown5       181422\n",
       "CPI                  0\n",
       "Unemployment         0\n",
       "Type                 0\n",
       "Size                 0\n",
       "dtype: int64"
      ]
     },
     "execution_count": 3,
     "metadata": {},
     "output_type": "execute_result"
    }
   ],
   "source": [
    "df.isnull().sum()"
   ]
  },
  {
   "cell_type": "code",
   "execution_count": 4,
   "metadata": {},
   "outputs": [],
   "source": [
    "df = df.assign(md1_present = df.MarkDown1.notnull())\n",
    "df = df.assign(md2_present = df.MarkDown2.notnull())\n",
    "df = df.assign(md3_present = df.MarkDown3.notnull())\n",
    "df = df.assign(md4_present = df.MarkDown4.notnull())\n",
    "df = df.assign(md5_present = df.MarkDown5.notnull())"
   ]
  },
  {
   "cell_type": "code",
   "execution_count": 5,
   "metadata": {},
   "outputs": [
    {
     "data": {
      "text/plain": [
       "Store                0\n",
       "Dept                 0\n",
       "Date                 0\n",
       "Weekly_Sales         0\n",
       "IsHoliday            0\n",
       "Temperature          0\n",
       "Fuel_Price           0\n",
       "MarkDown1       181931\n",
       "MarkDown2       208219\n",
       "MarkDown3       190930\n",
       "MarkDown4       192420\n",
       "MarkDown5       181422\n",
       "CPI                  0\n",
       "Unemployment         0\n",
       "Type                 0\n",
       "Size                 0\n",
       "md1_present          0\n",
       "md2_present          0\n",
       "md3_present          0\n",
       "md4_present          0\n",
       "md5_present          0\n",
       "dtype: int64"
      ]
     },
     "execution_count": 5,
     "metadata": {},
     "output_type": "execute_result"
    }
   ],
   "source": [
    "df.isnull().sum()"
   ]
  },
  {
   "cell_type": "code",
   "execution_count": 6,
   "metadata": {},
   "outputs": [],
   "source": [
    "df.fillna(0, inplace=True)"
   ]
  },
  {
   "cell_type": "code",
   "execution_count": 7,
   "metadata": {},
   "outputs": [],
   "source": [
    "df['Type'] = 'Type_' + df['Type'].map(str)\n",
    "df['Store'] = 'Store_' + df['Store'].map(str)\n",
    "df['Dept'] = 'Dept_' + df['Dept'].map(str)"
   ]
  },
  {
   "cell_type": "code",
   "execution_count": 8,
   "metadata": {},
   "outputs": [],
   "source": [
    "# Create dummies\n",
    "type_dummies = pd.get_dummies(df['Type'])\n",
    "store_dummies = pd.get_dummies(df['Store'])\n",
    "dept_dummies = pd.get_dummies(df['Dept'])"
   ]
  },
  {
   "cell_type": "code",
   "execution_count": 9,
   "metadata": {},
   "outputs": [],
   "source": [
    "# Add dummies\n",
    "df = pd.concat([df,type_dummies,store_dummies,dept_dummies],axis=1)"
   ]
  },
  {
   "cell_type": "code",
   "execution_count": 10,
   "metadata": {},
   "outputs": [],
   "source": [
    "del df['Type']\n",
    "del df['Store']\n",
    "del df['Dept']\n",
    "del df['Date']"
   ]
  },
  {
   "cell_type": "code",
   "execution_count": 11,
   "metadata": {},
   "outputs": [],
   "source": [
    "cor = df.corr(method = 'pearson').round(3)\n"
   ]
  },
  {
   "cell_type": "code",
   "execution_count": 12,
   "metadata": {},
   "outputs": [
    {
     "data": {
      "text/html": [
       "<div>\n",
       "<style scoped>\n",
       "    .dataframe tbody tr th:only-of-type {\n",
       "        vertical-align: middle;\n",
       "    }\n",
       "\n",
       "    .dataframe tbody tr th {\n",
       "        vertical-align: top;\n",
       "    }\n",
       "\n",
       "    .dataframe thead th {\n",
       "        text-align: right;\n",
       "    }\n",
       "</style>\n",
       "<table border=\"1\" class=\"dataframe\">\n",
       "  <thead>\n",
       "    <tr style=\"text-align: right;\">\n",
       "      <th></th>\n",
       "      <th>Weekly_Sales</th>\n",
       "      <th>IsHoliday</th>\n",
       "      <th>Temperature</th>\n",
       "      <th>Fuel_Price</th>\n",
       "      <th>MarkDown1</th>\n",
       "      <th>MarkDown2</th>\n",
       "      <th>MarkDown3</th>\n",
       "      <th>MarkDown4</th>\n",
       "      <th>MarkDown5</th>\n",
       "      <th>CPI</th>\n",
       "      <th>...</th>\n",
       "      <th>Dept_90</th>\n",
       "      <th>Dept_91</th>\n",
       "      <th>Dept_92</th>\n",
       "      <th>Dept_93</th>\n",
       "      <th>Dept_94</th>\n",
       "      <th>Dept_95</th>\n",
       "      <th>Dept_96</th>\n",
       "      <th>Dept_97</th>\n",
       "      <th>Dept_98</th>\n",
       "      <th>Dept_99</th>\n",
       "    </tr>\n",
       "  </thead>\n",
       "  <tbody>\n",
       "    <tr>\n",
       "      <td>Weekly_Sales</td>\n",
       "      <td>1.000</td>\n",
       "      <td>0.012</td>\n",
       "      <td>-0.001</td>\n",
       "      <td>0.003</td>\n",
       "      <td>0.050</td>\n",
       "      <td>0.020</td>\n",
       "      <td>0.036</td>\n",
       "      <td>0.038</td>\n",
       "      <td>0.051</td>\n",
       "      <td>-0.022</td>\n",
       "      <td>...</td>\n",
       "      <td>0.163</td>\n",
       "      <td>0.098</td>\n",
       "      <td>0.322</td>\n",
       "      <td>0.059</td>\n",
       "      <td>0.089</td>\n",
       "      <td>0.296</td>\n",
       "      <td>-0.004</td>\n",
       "      <td>-0.009</td>\n",
       "      <td>-0.048</td>\n",
       "      <td>-0.032</td>\n",
       "    </tr>\n",
       "    <tr>\n",
       "      <td>IsHoliday</td>\n",
       "      <td>0.012</td>\n",
       "      <td>1.000</td>\n",
       "      <td>-0.157</td>\n",
       "      <td>-0.077</td>\n",
       "      <td>-0.002</td>\n",
       "      <td>0.209</td>\n",
       "      <td>0.264</td>\n",
       "      <td>0.014</td>\n",
       "      <td>-0.015</td>\n",
       "      <td>-0.003</td>\n",
       "      <td>...</td>\n",
       "      <td>0.001</td>\n",
       "      <td>-0.001</td>\n",
       "      <td>-0.000</td>\n",
       "      <td>-0.000</td>\n",
       "      <td>-0.000</td>\n",
       "      <td>-0.001</td>\n",
       "      <td>-0.000</td>\n",
       "      <td>-0.001</td>\n",
       "      <td>0.000</td>\n",
       "      <td>0.005</td>\n",
       "    </tr>\n",
       "    <tr>\n",
       "      <td>Temperature</td>\n",
       "      <td>-0.001</td>\n",
       "      <td>-0.157</td>\n",
       "      <td>1.000</td>\n",
       "      <td>0.141</td>\n",
       "      <td>-0.026</td>\n",
       "      <td>-0.179</td>\n",
       "      <td>-0.057</td>\n",
       "      <td>-0.051</td>\n",
       "      <td>-0.015</td>\n",
       "      <td>0.181</td>\n",
       "      <td>...</td>\n",
       "      <td>0.003</td>\n",
       "      <td>0.003</td>\n",
       "      <td>0.006</td>\n",
       "      <td>0.001</td>\n",
       "      <td>0.004</td>\n",
       "      <td>0.003</td>\n",
       "      <td>0.008</td>\n",
       "      <td>0.003</td>\n",
       "      <td>0.000</td>\n",
       "      <td>0.005</td>\n",
       "    </tr>\n",
       "    <tr>\n",
       "      <td>Fuel_Price</td>\n",
       "      <td>0.003</td>\n",
       "      <td>-0.077</td>\n",
       "      <td>0.141</td>\n",
       "      <td>1.000</td>\n",
       "      <td>0.299</td>\n",
       "      <td>0.030</td>\n",
       "      <td>0.019</td>\n",
       "      <td>0.168</td>\n",
       "      <td>0.213</td>\n",
       "      <td>-0.164</td>\n",
       "      <td>...</td>\n",
       "      <td>0.000</td>\n",
       "      <td>-0.001</td>\n",
       "      <td>0.001</td>\n",
       "      <td>0.003</td>\n",
       "      <td>0.000</td>\n",
       "      <td>-0.000</td>\n",
       "      <td>0.000</td>\n",
       "      <td>0.001</td>\n",
       "      <td>0.004</td>\n",
       "      <td>0.022</td>\n",
       "    </tr>\n",
       "    <tr>\n",
       "      <td>MarkDown1</td>\n",
       "      <td>0.050</td>\n",
       "      <td>-0.002</td>\n",
       "      <td>-0.026</td>\n",
       "      <td>0.299</td>\n",
       "      <td>1.000</td>\n",
       "      <td>0.174</td>\n",
       "      <td>-0.014</td>\n",
       "      <td>0.839</td>\n",
       "      <td>0.411</td>\n",
       "      <td>0.012</td>\n",
       "      <td>...</td>\n",
       "      <td>-0.002</td>\n",
       "      <td>-0.003</td>\n",
       "      <td>-0.002</td>\n",
       "      <td>-0.001</td>\n",
       "      <td>-0.001</td>\n",
       "      <td>-0.002</td>\n",
       "      <td>-0.001</td>\n",
       "      <td>-0.002</td>\n",
       "      <td>-0.000</td>\n",
       "      <td>0.039</td>\n",
       "    </tr>\n",
       "    <tr>\n",
       "      <td>...</td>\n",
       "      <td>...</td>\n",
       "      <td>...</td>\n",
       "      <td>...</td>\n",
       "      <td>...</td>\n",
       "      <td>...</td>\n",
       "      <td>...</td>\n",
       "      <td>...</td>\n",
       "      <td>...</td>\n",
       "      <td>...</td>\n",
       "      <td>...</td>\n",
       "      <td>...</td>\n",
       "      <td>...</td>\n",
       "      <td>...</td>\n",
       "      <td>...</td>\n",
       "      <td>...</td>\n",
       "      <td>...</td>\n",
       "      <td>...</td>\n",
       "      <td>...</td>\n",
       "      <td>...</td>\n",
       "      <td>...</td>\n",
       "      <td>...</td>\n",
       "    </tr>\n",
       "    <tr>\n",
       "      <td>Dept_95</td>\n",
       "      <td>0.296</td>\n",
       "      <td>-0.001</td>\n",
       "      <td>0.003</td>\n",
       "      <td>-0.000</td>\n",
       "      <td>-0.002</td>\n",
       "      <td>-0.001</td>\n",
       "      <td>-0.000</td>\n",
       "      <td>-0.001</td>\n",
       "      <td>-0.000</td>\n",
       "      <td>0.002</td>\n",
       "      <td>...</td>\n",
       "      <td>-0.016</td>\n",
       "      <td>-0.016</td>\n",
       "      <td>-0.015</td>\n",
       "      <td>-0.015</td>\n",
       "      <td>-0.015</td>\n",
       "      <td>1.000</td>\n",
       "      <td>-0.013</td>\n",
       "      <td>-0.015</td>\n",
       "      <td>-0.015</td>\n",
       "      <td>-0.006</td>\n",
       "    </tr>\n",
       "    <tr>\n",
       "      <td>Dept_96</td>\n",
       "      <td>-0.004</td>\n",
       "      <td>-0.000</td>\n",
       "      <td>0.008</td>\n",
       "      <td>0.000</td>\n",
       "      <td>-0.001</td>\n",
       "      <td>0.000</td>\n",
       "      <td>-0.001</td>\n",
       "      <td>-0.001</td>\n",
       "      <td>0.001</td>\n",
       "      <td>-0.001</td>\n",
       "      <td>...</td>\n",
       "      <td>-0.014</td>\n",
       "      <td>-0.014</td>\n",
       "      <td>-0.013</td>\n",
       "      <td>-0.013</td>\n",
       "      <td>-0.013</td>\n",
       "      <td>-0.013</td>\n",
       "      <td>1.000</td>\n",
       "      <td>-0.013</td>\n",
       "      <td>-0.013</td>\n",
       "      <td>-0.005</td>\n",
       "    </tr>\n",
       "    <tr>\n",
       "      <td>Dept_97</td>\n",
       "      <td>-0.009</td>\n",
       "      <td>-0.001</td>\n",
       "      <td>0.003</td>\n",
       "      <td>0.001</td>\n",
       "      <td>-0.002</td>\n",
       "      <td>-0.000</td>\n",
       "      <td>-0.000</td>\n",
       "      <td>0.000</td>\n",
       "      <td>-0.002</td>\n",
       "      <td>-0.003</td>\n",
       "      <td>...</td>\n",
       "      <td>-0.015</td>\n",
       "      <td>-0.015</td>\n",
       "      <td>-0.015</td>\n",
       "      <td>-0.015</td>\n",
       "      <td>-0.014</td>\n",
       "      <td>-0.015</td>\n",
       "      <td>-0.013</td>\n",
       "      <td>1.000</td>\n",
       "      <td>-0.015</td>\n",
       "      <td>-0.006</td>\n",
       "    </tr>\n",
       "    <tr>\n",
       "      <td>Dept_98</td>\n",
       "      <td>-0.048</td>\n",
       "      <td>0.000</td>\n",
       "      <td>0.000</td>\n",
       "      <td>0.004</td>\n",
       "      <td>-0.000</td>\n",
       "      <td>0.000</td>\n",
       "      <td>0.002</td>\n",
       "      <td>-0.000</td>\n",
       "      <td>0.000</td>\n",
       "      <td>-0.005</td>\n",
       "      <td>...</td>\n",
       "      <td>-0.015</td>\n",
       "      <td>-0.015</td>\n",
       "      <td>-0.015</td>\n",
       "      <td>-0.014</td>\n",
       "      <td>-0.014</td>\n",
       "      <td>-0.015</td>\n",
       "      <td>-0.013</td>\n",
       "      <td>-0.015</td>\n",
       "      <td>1.000</td>\n",
       "      <td>-0.005</td>\n",
       "    </tr>\n",
       "    <tr>\n",
       "      <td>Dept_99</td>\n",
       "      <td>-0.032</td>\n",
       "      <td>0.005</td>\n",
       "      <td>0.005</td>\n",
       "      <td>0.022</td>\n",
       "      <td>0.039</td>\n",
       "      <td>0.010</td>\n",
       "      <td>0.013</td>\n",
       "      <td>0.035</td>\n",
       "      <td>0.028</td>\n",
       "      <td>0.008</td>\n",
       "      <td>...</td>\n",
       "      <td>-0.006</td>\n",
       "      <td>-0.006</td>\n",
       "      <td>-0.006</td>\n",
       "      <td>-0.006</td>\n",
       "      <td>-0.005</td>\n",
       "      <td>-0.006</td>\n",
       "      <td>-0.005</td>\n",
       "      <td>-0.006</td>\n",
       "      <td>-0.005</td>\n",
       "      <td>1.000</td>\n",
       "    </tr>\n",
       "  </tbody>\n",
       "</table>\n",
       "<p>146 rows × 146 columns</p>\n",
       "</div>"
      ],
      "text/plain": [
       "              Weekly_Sales  IsHoliday  Temperature  Fuel_Price  MarkDown1  \\\n",
       "Weekly_Sales         1.000      0.012       -0.001       0.003      0.050   \n",
       "IsHoliday            0.012      1.000       -0.157      -0.077     -0.002   \n",
       "Temperature         -0.001     -0.157        1.000       0.141     -0.026   \n",
       "Fuel_Price           0.003     -0.077        0.141       1.000      0.299   \n",
       "MarkDown1            0.050     -0.002       -0.026       0.299      1.000   \n",
       "...                    ...        ...          ...         ...        ...   \n",
       "Dept_95              0.296     -0.001        0.003      -0.000     -0.002   \n",
       "Dept_96             -0.004     -0.000        0.008       0.000     -0.001   \n",
       "Dept_97             -0.009     -0.001        0.003       0.001     -0.002   \n",
       "Dept_98             -0.048      0.000        0.000       0.004     -0.000   \n",
       "Dept_99             -0.032      0.005        0.005       0.022      0.039   \n",
       "\n",
       "              MarkDown2  MarkDown3  MarkDown4  MarkDown5    CPI  ...  Dept_90  \\\n",
       "Weekly_Sales      0.020      0.036      0.038      0.051 -0.022  ...    0.163   \n",
       "IsHoliday         0.209      0.264      0.014     -0.015 -0.003  ...    0.001   \n",
       "Temperature      -0.179     -0.057     -0.051     -0.015  0.181  ...    0.003   \n",
       "Fuel_Price        0.030      0.019      0.168      0.213 -0.164  ...    0.000   \n",
       "MarkDown1         0.174     -0.014      0.839      0.411  0.012  ...   -0.002   \n",
       "...                 ...        ...        ...        ...    ...  ...      ...   \n",
       "Dept_95          -0.001     -0.000     -0.001     -0.000  0.002  ...   -0.016   \n",
       "Dept_96           0.000     -0.001     -0.001      0.001 -0.001  ...   -0.014   \n",
       "Dept_97          -0.000     -0.000      0.000     -0.002 -0.003  ...   -0.015   \n",
       "Dept_98           0.000      0.002     -0.000      0.000 -0.005  ...   -0.015   \n",
       "Dept_99           0.010      0.013      0.035      0.028  0.008  ...   -0.006   \n",
       "\n",
       "              Dept_91  Dept_92  Dept_93  Dept_94  Dept_95  Dept_96  Dept_97  \\\n",
       "Weekly_Sales    0.098    0.322    0.059    0.089    0.296   -0.004   -0.009   \n",
       "IsHoliday      -0.001   -0.000   -0.000   -0.000   -0.001   -0.000   -0.001   \n",
       "Temperature     0.003    0.006    0.001    0.004    0.003    0.008    0.003   \n",
       "Fuel_Price     -0.001    0.001    0.003    0.000   -0.000    0.000    0.001   \n",
       "MarkDown1      -0.003   -0.002   -0.001   -0.001   -0.002   -0.001   -0.002   \n",
       "...               ...      ...      ...      ...      ...      ...      ...   \n",
       "Dept_95        -0.016   -0.015   -0.015   -0.015    1.000   -0.013   -0.015   \n",
       "Dept_96        -0.014   -0.013   -0.013   -0.013   -0.013    1.000   -0.013   \n",
       "Dept_97        -0.015   -0.015   -0.015   -0.014   -0.015   -0.013    1.000   \n",
       "Dept_98        -0.015   -0.015   -0.014   -0.014   -0.015   -0.013   -0.015   \n",
       "Dept_99        -0.006   -0.006   -0.006   -0.005   -0.006   -0.005   -0.006   \n",
       "\n",
       "              Dept_98  Dept_99  \n",
       "Weekly_Sales   -0.048   -0.032  \n",
       "IsHoliday       0.000    0.005  \n",
       "Temperature     0.000    0.005  \n",
       "Fuel_Price      0.004    0.022  \n",
       "MarkDown1      -0.000    0.039  \n",
       "...               ...      ...  \n",
       "Dept_95        -0.015   -0.006  \n",
       "Dept_96        -0.013   -0.005  \n",
       "Dept_97        -0.015   -0.006  \n",
       "Dept_98         1.000   -0.005  \n",
       "Dept_99        -0.005    1.000  \n",
       "\n",
       "[146 rows x 146 columns]"
      ]
     },
     "execution_count": 12,
     "metadata": {},
     "output_type": "execute_result"
    }
   ],
   "source": [
    "cor"
   ]
  },
  {
   "cell_type": "code",
   "execution_count": 13,
   "metadata": {},
   "outputs": [],
   "source": [
    "train = df.iloc[:282451]\n",
    "test = df.iloc[282451:]\n",
    "test = test.drop('Weekly_Sales',axis=1) # We should remove the nonsense values from test\n",
    "#To get numpy arrays out of the pandas data frame, we can ask for a columns, or dataframes values\n",
    "\n",
    "y = train['Weekly_Sales']\n",
    "X = train.drop('Weekly_Sales',axis=1)"
   ]
  },
  {
   "cell_type": "code",
   "execution_count": 14,
   "metadata": {},
   "outputs": [],
   "source": [
    "from sklearn import linear_model, metrics"
   ]
  },
  {
   "cell_type": "code",
   "execution_count": 15,
   "metadata": {},
   "outputs": [],
   "source": [
    "lr = linear_model.LinearRegression()\n",
    "lr.fit(X, y)\n",
    "\n",
    "y_pred = lr.predict(X)"
   ]
  },
  {
   "cell_type": "code",
   "execution_count": 16,
   "metadata": {},
   "outputs": [
    {
     "name": "stdout",
     "output_type": "stream",
     "text": [
      "MSE for model1 is : 13220.803775489598\n"
     ]
    }
   ],
   "source": [
    "Mse1 = np.sqrt(round(metrics.mean_squared_error(y_pred,y),3))\n",
    "print('MSE for model1 is :',Mse1)"
   ]
  },
  {
   "cell_type": "code",
   "execution_count": 17,
   "metadata": {},
   "outputs": [
    {
     "data": {
      "text/plain": [
       "0.6596266338722205"
      ]
     },
     "execution_count": 17,
     "metadata": {},
     "output_type": "execute_result"
    }
   ],
   "source": [
    "metrics.r2_score(y,y_pred)"
   ]
  },
  {
   "cell_type": "code",
   "execution_count": 21,
   "metadata": {},
   "outputs": [
    {
     "name": "stdout",
     "output_type": "stream",
     "text": [
      "(282451, 13)\n"
     ]
    }
   ],
   "source": [
    "#Createing a DataFrame for numerical features\n",
    "data1 = df1.drop(['IsHoliday', 'Type','Date'],axis=1)\n",
    "print(data1.shape)\n",
    "# Create a DataFrame for categorical features\n",
    "cols_to_transform =pd.DataFrame(df1,columns=['Type'])\n",
    "dummies1=pd.get_dummies(df1['IsHoliday'])\n",
    "dummies1.rename(columns={True:'IsHoliday_1',False:'IsHoliday_0'},inplace=True)\n",
    "dummies = pd.get_dummies(cols_to_transform)"
   ]
  },
  {
   "cell_type": "markdown",
   "metadata": {},
   "source": [
    "## Principal component analysis feasibility study"
   ]
  },
  {
   "cell_type": "code",
   "execution_count": 22,
   "metadata": {
    "scrolled": true
   },
   "outputs": [
    {
     "data": {
      "text/html": [
       "<div>\n",
       "<style scoped>\n",
       "    .dataframe tbody tr th:only-of-type {\n",
       "        vertical-align: middle;\n",
       "    }\n",
       "\n",
       "    .dataframe tbody tr th {\n",
       "        vertical-align: top;\n",
       "    }\n",
       "\n",
       "    .dataframe thead th {\n",
       "        text-align: right;\n",
       "    }\n",
       "</style>\n",
       "<table border=\"1\" class=\"dataframe\">\n",
       "  <thead>\n",
       "    <tr style=\"text-align: right;\">\n",
       "      <th></th>\n",
       "      <th>Store</th>\n",
       "      <th>Dept</th>\n",
       "      <th>Weekly_Sales</th>\n",
       "      <th>Temperature</th>\n",
       "      <th>Fuel_Price</th>\n",
       "      <th>MarkDown1</th>\n",
       "      <th>MarkDown2</th>\n",
       "      <th>MarkDown3</th>\n",
       "      <th>MarkDown4</th>\n",
       "      <th>MarkDown5</th>\n",
       "      <th>CPI</th>\n",
       "      <th>Unemployment</th>\n",
       "      <th>Size</th>\n",
       "      <th>IsHoliday_0</th>\n",
       "      <th>IsHoliday_1</th>\n",
       "      <th>Type_A</th>\n",
       "      <th>Type_B</th>\n",
       "      <th>Type_C</th>\n",
       "    </tr>\n",
       "  </thead>\n",
       "  <tbody>\n",
       "    <tr>\n",
       "      <td>0</td>\n",
       "      <td>26</td>\n",
       "      <td>92</td>\n",
       "      <td>87235.57</td>\n",
       "      <td>61.10</td>\n",
       "      <td>3.796</td>\n",
       "      <td>NaN</td>\n",
       "      <td>NaN</td>\n",
       "      <td>NaN</td>\n",
       "      <td>NaN</td>\n",
       "      <td>NaN</td>\n",
       "      <td>136.213613</td>\n",
       "      <td>7.767</td>\n",
       "      <td>152513</td>\n",
       "      <td>1</td>\n",
       "      <td>0</td>\n",
       "      <td>1</td>\n",
       "      <td>0</td>\n",
       "      <td>0</td>\n",
       "    </tr>\n",
       "    <tr>\n",
       "      <td>1</td>\n",
       "      <td>34</td>\n",
       "      <td>22</td>\n",
       "      <td>5945.97</td>\n",
       "      <td>53.11</td>\n",
       "      <td>3.480</td>\n",
       "      <td>NaN</td>\n",
       "      <td>NaN</td>\n",
       "      <td>NaN</td>\n",
       "      <td>NaN</td>\n",
       "      <td>NaN</td>\n",
       "      <td>128.616064</td>\n",
       "      <td>10.398</td>\n",
       "      <td>158114</td>\n",
       "      <td>1</td>\n",
       "      <td>0</td>\n",
       "      <td>1</td>\n",
       "      <td>0</td>\n",
       "      <td>0</td>\n",
       "    </tr>\n",
       "    <tr>\n",
       "      <td>2</td>\n",
       "      <td>21</td>\n",
       "      <td>28</td>\n",
       "      <td>1219.89</td>\n",
       "      <td>50.43</td>\n",
       "      <td>2.708</td>\n",
       "      <td>NaN</td>\n",
       "      <td>NaN</td>\n",
       "      <td>NaN</td>\n",
       "      <td>NaN</td>\n",
       "      <td>NaN</td>\n",
       "      <td>211.265543</td>\n",
       "      <td>8.163</td>\n",
       "      <td>140167</td>\n",
       "      <td>1</td>\n",
       "      <td>0</td>\n",
       "      <td>0</td>\n",
       "      <td>1</td>\n",
       "      <td>0</td>\n",
       "    </tr>\n",
       "    <tr>\n",
       "      <td>3</td>\n",
       "      <td>8</td>\n",
       "      <td>9</td>\n",
       "      <td>11972.71</td>\n",
       "      <td>75.32</td>\n",
       "      <td>2.582</td>\n",
       "      <td>NaN</td>\n",
       "      <td>NaN</td>\n",
       "      <td>NaN</td>\n",
       "      <td>NaN</td>\n",
       "      <td>NaN</td>\n",
       "      <td>214.878556</td>\n",
       "      <td>6.315</td>\n",
       "      <td>155078</td>\n",
       "      <td>1</td>\n",
       "      <td>0</td>\n",
       "      <td>1</td>\n",
       "      <td>0</td>\n",
       "      <td>0</td>\n",
       "    </tr>\n",
       "    <tr>\n",
       "      <td>4</td>\n",
       "      <td>19</td>\n",
       "      <td>55</td>\n",
       "      <td>8271.82</td>\n",
       "      <td>58.81</td>\n",
       "      <td>4.029</td>\n",
       "      <td>12613.98</td>\n",
       "      <td>NaN</td>\n",
       "      <td>11.5</td>\n",
       "      <td>1705.28</td>\n",
       "      <td>3600.79</td>\n",
       "      <td>138.106581</td>\n",
       "      <td>8.150</td>\n",
       "      <td>203819</td>\n",
       "      <td>1</td>\n",
       "      <td>0</td>\n",
       "      <td>1</td>\n",
       "      <td>0</td>\n",
       "      <td>0</td>\n",
       "    </tr>\n",
       "  </tbody>\n",
       "</table>\n",
       "</div>"
      ],
      "text/plain": [
       "   Store  Dept  Weekly_Sales  Temperature  Fuel_Price  MarkDown1  MarkDown2  \\\n",
       "0     26    92      87235.57        61.10       3.796        NaN        NaN   \n",
       "1     34    22       5945.97        53.11       3.480        NaN        NaN   \n",
       "2     21    28       1219.89        50.43       2.708        NaN        NaN   \n",
       "3      8     9      11972.71        75.32       2.582        NaN        NaN   \n",
       "4     19    55       8271.82        58.81       4.029   12613.98        NaN   \n",
       "\n",
       "   MarkDown3  MarkDown4  MarkDown5         CPI  Unemployment    Size  \\\n",
       "0        NaN        NaN        NaN  136.213613         7.767  152513   \n",
       "1        NaN        NaN        NaN  128.616064        10.398  158114   \n",
       "2        NaN        NaN        NaN  211.265543         8.163  140167   \n",
       "3        NaN        NaN        NaN  214.878556         6.315  155078   \n",
       "4       11.5    1705.28    3600.79  138.106581         8.150  203819   \n",
       "\n",
       "   IsHoliday_0  IsHoliday_1  Type_A  Type_B  Type_C  \n",
       "0            1            0       1       0       0  \n",
       "1            1            0       1       0       0  \n",
       "2            1            0       0       1       0  \n",
       "3            1            0       1       0       0  \n",
       "4            1            0       1       0       0  "
      ]
     },
     "execution_count": 22,
     "metadata": {},
     "output_type": "execute_result"
    }
   ],
   "source": [
    "data_transform=pd.concat([data1,dummies1,dummies],axis=1)\n",
    "data_transform.head()"
   ]
  },
  {
   "cell_type": "markdown",
   "metadata": {},
   "source": [
    "# Transformation of data  "
   ]
  },
  {
   "cell_type": "code",
   "execution_count": 23,
   "metadata": {},
   "outputs": [
    {
     "data": {
      "text/plain": [
       "0         0\n",
       "1         0\n",
       "2         0\n",
       "3         0\n",
       "4         0\n",
       "         ..\n",
       "282446    0\n",
       "282447    0\n",
       "282448    0\n",
       "282449    0\n",
       "282450    0\n",
       "Name: Type_C, Length: 282451, dtype: uint8"
      ]
     },
     "execution_count": 23,
     "metadata": {},
     "output_type": "execute_result"
    }
   ],
   "source": [
    "data_transform.Type_C"
   ]
  },
  {
   "cell_type": "code",
   "execution_count": 24,
   "metadata": {},
   "outputs": [],
   "source": [
    "data_transform.fillna(0,inplace=True)"
   ]
  },
  {
   "cell_type": "code",
   "execution_count": 25,
   "metadata": {},
   "outputs": [],
   "source": [
    "features = ['Store', 'Dept', 'Temperature', 'Fuel_Price','MarkDown1','MarkDown2','MarkDown3','MarkDown4','MarkDown5','CPI','Unemployment','Size','IsHoliday_0','IsHoliday_1','Type_A','Type_B','Type_C']"
   ]
  },
  {
   "cell_type": "code",
   "execution_count": 26,
   "metadata": {},
   "outputs": [],
   "source": [
    "X_Train=data_transform[features]\n",
    "X_Actual=data_transform['Weekly_Sales']"
   ]
  },
  {
   "cell_type": "code",
   "execution_count": 27,
   "metadata": {},
   "outputs": [
    {
     "data": {
      "text/plain": [
       "StandardScaler(copy=True, with_mean=True, with_std=True)"
      ]
     },
     "execution_count": 27,
     "metadata": {},
     "output_type": "execute_result"
    }
   ],
   "source": [
    "from sklearn.preprocessing import StandardScaler\n",
    "scaler = StandardScaler()\n",
    "# Fit on training set only.\n",
    "scaler.fit(X_Train)"
   ]
  },
  {
   "cell_type": "code",
   "execution_count": 28,
   "metadata": {},
   "outputs": [],
   "source": [
    "train_transform = scaler.transform(X_Train)"
   ]
  },
  {
   "cell_type": "code",
   "execution_count": 29,
   "metadata": {},
   "outputs": [
    {
     "data": {
      "text/plain": [
       "array([ 0.92369954, -0.73060713, -0.37967408,  0.26101146, -0.42810274,\n",
       "       -0.17176531, -0.08388145, -0.27806187, -0.3902481 , -1.08761323,\n",
       "        1.30075795,  0.35054347,  0.27470531, -0.27470531,  0.97666802,\n",
       "       -0.79517683, -0.33486476])"
      ]
     },
     "execution_count": 29,
     "metadata": {},
     "output_type": "execute_result"
    }
   ],
   "source": [
    "train_transform[1]"
   ]
  },
  {
   "cell_type": "markdown",
   "metadata": {},
   "source": [
    "## Eigen value decomposition for PCA taking into account 95% of variance. "
   ]
  },
  {
   "cell_type": "code",
   "execution_count": 30,
   "metadata": {},
   "outputs": [],
   "source": [
    "from sklearn.decomposition import PCA\n",
    "# taking into account the 95% of variance into account\n",
    "pca = PCA(.95)"
   ]
  },
  {
   "cell_type": "code",
   "execution_count": 31,
   "metadata": {},
   "outputs": [
    {
     "data": {
      "text/plain": [
       "PCA(copy=True, iterated_power='auto', n_components=0.95, random_state=None,\n",
       "    svd_solver='auto', tol=0.0, whiten=False)"
      ]
     },
     "execution_count": 31,
     "metadata": {},
     "output_type": "execute_result"
    }
   ],
   "source": [
    "pca.fit(train_transform) # train_transform is the dataframe containg all the variables for ex 80"
   ]
  },
  {
   "cell_type": "code",
   "execution_count": 32,
   "metadata": {},
   "outputs": [],
   "source": [
    "train_transform = pca.transform(train_transform) # projecting the variables into new space"
   ]
  },
  {
   "cell_type": "code",
   "execution_count": 33,
   "metadata": {},
   "outputs": [
    {
     "data": {
      "text/plain": [
       "array([0.16233844, 0.13279793, 0.1232699 , 0.10328482, 0.07829645,\n",
       "       0.06489153, 0.05865676, 0.05578254, 0.05306255, 0.04583505,\n",
       "       0.04161007, 0.03009259, 0.02910726])"
      ]
     },
     "execution_count": 33,
     "metadata": {},
     "output_type": "execute_result"
    }
   ],
   "source": [
    "pca.explained_variance_ratio_"
   ]
  },
  {
   "cell_type": "code",
   "execution_count": 34,
   "metadata": {},
   "outputs": [],
   "source": [
    "#The amount of variance that each PC explains\n",
    "var= pca.explained_variance_ratio_\n",
    "\n",
    "#Cumulative Variance explains\n",
    "var1=np.cumsum(np.round(pca.explained_variance_ratio_, decimals=4)*100)"
   ]
  },
  {
   "cell_type": "markdown",
   "metadata": {},
   "source": [
    "### Plot to show the now of componets required for explaining the required variability."
   ]
  },
  {
   "cell_type": "code",
   "execution_count": 42,
   "metadata": {},
   "outputs": [
    {
     "data": {
      "image/png": "[encoded data removed]",
      "text/plain": [
       "<Figure size 432x288 with 1 Axes>"
      ]
     },
     "metadata": {
      "needs_background": "light"
     },
     "output_type": "display_data"
    }
   ],
   "source": [
    "import matplotlib.pyplot as plt\n",
    "plt.plot(var1)\n",
    "plt.show()"
   ]
  },
  {
   "cell_type": "code",
   "execution_count": 37,
   "metadata": {},
   "outputs": [],
   "source": [
    "from sklearn import linear_model, metrics\n",
    "from sklearn.model_selection import train_test_split"
   ]
  },
  {
   "cell_type": "markdown",
   "metadata": {},
   "source": [
    "### training of dataset after split of data into train and test"
   ]
  },
  {
   "cell_type": "code",
   "execution_count": 38,
   "metadata": {},
   "outputs": [],
   "source": [
    "X_train, X_test , y_train, y_test = train_test_split(train_transform,X_Actual, test_size=.15, random_state = 3)\n",
    "\n",
    "lr = linear_model.LinearRegression()\n",
    "lr.fit(X_train, y_train)\n",
    "\n",
    "y_pred = lr.predict(X_test)"
   ]
  },
  {
   "cell_type": "code",
   "execution_count": 39,
   "metadata": {},
   "outputs": [
    {
     "data": {
      "text/plain": [
       "117638     7684.54\n",
       "171337    40389.62\n",
       "31402      2864.63\n",
       "80260       621.00\n",
       "175053       52.35\n",
       "            ...   \n",
       "11261     37748.22\n",
       "48056      2626.06\n",
       "77049      2573.43\n",
       "198296     2282.33\n",
       "71530       579.99\n",
       "Name: Weekly_Sales, Length: 240083, dtype: float64"
      ]
     },
     "execution_count": 39,
     "metadata": {},
     "output_type": "execute_result"
    }
   ],
   "source": [
    "y_train"
   ]
  },
  {
   "cell_type": "markdown",
   "metadata": {},
   "source": [
    "### Mean standard error"
   ]
  },
  {
   "cell_type": "code",
   "execution_count": 40,
   "metadata": {},
   "outputs": [
    {
     "name": "stdout",
     "output_type": "stream",
     "text": [
      "MSE for model1 is : 21814.938207934487\n"
     ]
    }
   ],
   "source": [
    "Mse1 = np.sqrt(round(metrics.mean_squared_error(y_test,y_pred),3))\n",
    "print('MSE for model1 is :',Mse1)"
   ]
  },
  {
   "cell_type": "markdown",
   "metadata": {},
   "source": [
    "### R^2 for pca model"
   ]
  },
  {
   "cell_type": "code",
   "execution_count": 41,
   "metadata": {},
   "outputs": [
    {
     "data": {
      "text/plain": [
       "0.08147736122677429"
      ]
     },
     "execution_count": 41,
     "metadata": {},
     "output_type": "execute_result"
    }
   ],
   "source": [
    "metrics.r2_score(y_test,y_pred)"
   ]
  },
  {
   "cell_type": "markdown",
   "metadata": {},
   "source": [
    "### from the feasibility study we can see that r^2 is low for linear regression at 62% and further lower for PCA and linear regression at 8.1% so we concluded that time related data set is not good for linear regression and PCA + Linear regression"
   ]
  },
  {
   "cell_type": "code",
   "execution_count": null,
   "metadata": {},
   "outputs": [],
   "source": []
  },
  {
   "cell_type": "code",
   "execution_count": null,
   "metadata": {},
   "outputs": [],
   "source": []
  }
 ],
 "metadata": {
  "kernelspec": {
   "display_name": "Python 3",
   "language": "python",
   "name": "python3"
  },
  "language_info": {
   "codemirror_mode": {
    "name": "ipython",
    "version": 3
   },
   "file_extension": ".py",
   "mimetype": "text/x-python",
   "name": "python",
   "nbconvert_exporter": "python",
   "pygments_lexer": "ipython3",
   "version": "3.7.4"
  }
 },
 "nbformat": 4,
 "nbformat_minor": 2
}
